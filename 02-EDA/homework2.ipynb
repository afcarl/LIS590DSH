{
 "cells": [
  {
   "cell_type": "markdown",
   "metadata": {},
   "source": [
    "# Homework 2\n",
    "\n",
    "First run the cell below, just to make sure all the modules you need are imported."
   ]
  },
  {
   "cell_type": "code",
   "execution_count": 24,
   "metadata": {
    "collapsed": false
   },
   "outputs": [],
   "source": [
    "%matplotlib inline\n",
    "import os\n",
    "import pandas as pd\n",
    "import numpy as np\n",
    "import matplotlib.pyplot as plt"
   ]
  },
  {
   "cell_type": "markdown",
   "metadata": {},
   "source": [
    "If there are exercises that we didn't get to in class, insert some cells here and copy them over so you can finish them."
   ]
  },
  {
   "cell_type": "markdown",
   "metadata": {},
   "source": [
    "### Exercise 1.\n",
    "\n",
    "Once that's done, do a little exploratory analysis of the fivethirtyeight dataset we didn't cover in class, bechdel.csv. This has data on films that did, or didn't, pass the Bechdel test for minimal representation of women. You may want to start by reading [the story by Walt Hickey on FiveThirtyEight.](https://fivethirtyeight.com/features/the-dollar-and-cents-case-against-hollywoods-exclusion-of-women/)\n",
    "\n",
    "Then try a few things:\n",
    "\n",
    "1. Check the correlation between raw ```budget``` and ```domgross``` (domestic gross receipts). Is it stronger or weaker than the correlation between those figures in inflation-adjusted 2013 dollars (```budget_2013``` and ```domgross_2013```)? Plot a scatterplot of the relationship between the two columns that have the strongest relationship. Make a guess about why it's stronger.\n",
    "\n",
    "2. Plot a boxplot to assess the distribution of ```budget_2013``` broken out by the column ```binary```, which tells you in the simplest terms whether a film passed or failed the Bechdel test. How confident are you, just looking at the boxplot, that there's a significant difference between these two distributions?\n",
    "\n",
    "This analysis will probably feel very tentative and incomplete; that's okay. It's setting us up for more work on the Bechdel dataset next week, when we'll be able to test some of these hypotheses more rigorously."
   ]
  },
  {
   "cell_type": "code",
   "execution_count": null,
   "metadata": {
    "collapsed": true
   },
   "outputs": [],
   "source": []
  }
 ],
 "metadata": {
  "kernelspec": {
   "display_name": "Python [conda root]",
   "language": "python",
   "name": "conda-root-py"
  },
  "language_info": {
   "codemirror_mode": {
    "name": "ipython",
    "version": 3
   },
   "file_extension": ".py",
   "mimetype": "text/x-python",
   "name": "python",
   "nbconvert_exporter": "python",
   "pygments_lexer": "ipython3",
   "version": "3.5.2"
  }
 },
 "nbformat": 4,
 "nbformat_minor": 1
}
