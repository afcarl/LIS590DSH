{
 "cells": [
  {
   "cell_type": "markdown",
   "metadata": {},
   "source": [
    "# Homework 4: Applying Dunning's log-likelihood to 19c poetry\n",
    "\n",
    "I've put my \"solutions\" to in-class exercises on the Moodle, except for Exercise 2, which has become our homework assignment. \n",
    "\n",
    "## Problem 1.\n",
    "\n",
    "Find 25 words that are overrepresented in poetry reviewed by elite 19c magazines, as compared to other works of poetry that didn't get reviewed in those venues. Also list 25 words that are overrepresented in poetry that didn't get reviewed.\n",
    "\n",
    "To do this, you'll need to copy over some of the functions from our Week 4 exercises, and also copy over the code from our in-class Exercise #1, editing it so that it divides the corpus.\n",
    "\n",
    "Here's some code to get us started. I load some modules we're likely to need, and then load the ```poefic``` corpus.\n",
    "\n",
    "Then I filter the ```poefic``` DataFrame to have only poetry. I'm doing this for two reasons. The first is that I'm a little concerned that the size of the data is posing a problem on some computers. The other, more immediate, reason is that this dataset only has an even distribution of the \"reception\" variable in poetry. (Almost all the fiction I gave you was reviewed in elite venues.)"
   ]
  },
  {
   "cell_type": "code",
   "execution_count": 12,
   "metadata": {
    "collapsed": false
   },
   "outputs": [
    {
     "name": "stdout",
     "output_type": "stream",
     "text": [
      "Current working directory: /Users/tunder/Dropbox/courses/2017datasci/04-Geometry\n",
      "\n"
     ]
    },
    {
     "data": {
      "text/html": [
       "<div>\n",
       "<table border=\"1\" class=\"dataframe\">\n",
       "  <thead>\n",
       "    <tr style=\"text-align: right;\">\n",
       "      <th></th>\n",
       "      <th>date</th>\n",
       "      <th>author</th>\n",
       "      <th>title</th>\n",
       "      <th>genre</th>\n",
       "      <th>reception</th>\n",
       "      <th>text</th>\n",
       "    </tr>\n",
       "  </thead>\n",
       "  <tbody>\n",
       "    <tr>\n",
       "      <th>359</th>\n",
       "      <td>1835</td>\n",
       "      <td>Browning, Robert,</td>\n",
       "      <td>Paracelsus</td>\n",
       "      <td>poetry</td>\n",
       "      <td>remove</td>\n",
       "      <td>Paracelsus. We 154 PARACELSUS [BOOK III Not ea...</td>\n",
       "    </tr>\n",
       "    <tr>\n",
       "      <th>360</th>\n",
       "      <td>1833</td>\n",
       "      <td>Browning, Robert,</td>\n",
       "      <td>Pauline</td>\n",
       "      <td>poetry</td>\n",
       "      <td>remove</td>\n",
       "      <td>all, I sought How best life’s end might be att...</td>\n",
       "    </tr>\n",
       "    <tr>\n",
       "      <th>361</th>\n",
       "      <td>1855</td>\n",
       "      <td>Arnold, Matthew,</td>\n",
       "      <td>Poems</td>\n",
       "      <td>poetry</td>\n",
       "      <td>elite</td>\n",
       "      <td>grace, and Wisdom be too proud To halve a lodg...</td>\n",
       "    </tr>\n",
       "    <tr>\n",
       "      <th>362</th>\n",
       "      <td>1867</td>\n",
       "      <td>Arnold, Matthew,</td>\n",
       "      <td>New poems</td>\n",
       "      <td>poetry</td>\n",
       "      <td>elite</td>\n",
       "      <td>from the West was then in shade. Ah ! now 'tis...</td>\n",
       "    </tr>\n",
       "    <tr>\n",
       "      <th>363</th>\n",
       "      <td>1861</td>\n",
       "      <td>Mangum, A. W.</td>\n",
       "      <td>The holy shield</td>\n",
       "      <td>poetry</td>\n",
       "      <td>vulgar</td>\n",
       "      <td>happy hgme which he had exchange d for the ten...</td>\n",
       "    </tr>\n",
       "  </tbody>\n",
       "</table>\n",
       "</div>"
      ],
      "text/plain": [
       "     date             author            title   genre reception  \\\n",
       "359  1835  Browning, Robert,       Paracelsus  poetry    remove   \n",
       "360  1833  Browning, Robert,          Pauline  poetry    remove   \n",
       "361  1855   Arnold, Matthew,            Poems  poetry     elite   \n",
       "362  1867   Arnold, Matthew,        New poems  poetry     elite   \n",
       "363  1861      Mangum, A. W.  The holy shield  poetry    vulgar   \n",
       "\n",
       "                                                  text  \n",
       "359  Paracelsus. We 154 PARACELSUS [BOOK III Not ea...  \n",
       "360  all, I sought How best life’s end might be att...  \n",
       "361  grace, and Wisdom be too proud To halve a lodg...  \n",
       "362  from the West was then in shade. Ah ! now 'tis...  \n",
       "363  happy hgme which he had exchange d for the ten...  "
      ]
     },
     "execution_count": 12,
     "metadata": {},
     "output_type": "execute_result"
    }
   ],
   "source": [
    "import os, csv, math\n",
    "import pandas as pd\n",
    "import numpy as np\n",
    "\n",
    "from collections import Counter\n",
    "\n",
    "cwd = os.getcwd()\n",
    "print('Current working directory: ' + cwd + '\\n')\n",
    "      \n",
    "relativepath = os.path.join('..', 'data', 'weekfour', 'poefic.csv')\n",
    "poefic = pd.read_csv(relativepath)\n",
    "\n",
    "# FILTERING BY ROW TO GET ONLY THE POETRY\n",
    "poefic = poefic[poefic['genre'] == 'poetry']\n",
    "# equivalent to\n",
    "    # poefic = poefic.loc[poefic['genre] == poetry, : ]\n",
    "poefic.head()"
   ]
  },
  {
   "cell_type": "markdown",
   "metadata": {},
   "source": [
    "**A small digression about the code above**\n",
    "\n",
    "It's worth dwelling for a moment on the statement that does filtering by row. Notice that if you index a pandas DataFrame with a single string, like ```poefic['genre']```, you get a column. But if you generate a series of Boolean values, and use *that* to index the DataFrame, like so,\n",
    "\n",
    "```poefic[poefic['genre'] == 'poetry']```\n",
    "\n",
    "You'll be selecting *rows* where the series has a value ```True.```\n",
    "\n",
    "If it's not clear what I mean by \"generating a series of Boolean values,\" look at the result of the cell below. (You can delete the cell below when you're working on the homework; this is all a digression.) Notice also, in the code above, that you can also use the ```.loc``` method to specify rows and columns at the same time if you want to. In this case I haven't specified a column for ```.loc``` to select, the ``` : ``` after the comma is a way of saying \"all the columns.\""
   ]
  },
  {
   "cell_type": "code",
   "execution_count": 13,
   "metadata": {
    "collapsed": false
   },
   "outputs": [
    {
     "name": "stdout",
     "output_type": "stream",
     "text": [
      "359\n",
      "360\n",
      "361\n",
      "362\n",
      "363\n",
      "364\n",
      "365\n",
      "366\n",
      "367\n",
      "368\n",
      "369\n",
      "370\n",
      "371\n",
      "372\n",
      "373\n",
      "374\n",
      "375\n",
      "376\n",
      "377\n",
      "378\n",
      "379\n",
      "380\n",
      "381\n",
      "382\n",
      "383\n",
      "384\n",
      "385\n",
      "386\n",
      "387\n",
      "388\n",
      "389\n",
      "390\n",
      "391\n",
      "392\n",
      "393\n",
      "394\n",
      "395\n",
      "396\n",
      "397\n",
      "398\n",
      "399\n",
      "400\n",
      "401\n"
     ]
    }
   ],
   "source": [
    "for i in poefic.index:\n",
    "    print(i)\n",
    "    if i > 400:\n",
    "        break"
   ]
  },
  {
   "cell_type": "code",
   "execution_count": 11,
   "metadata": {
    "collapsed": false
   },
   "outputs": [
    {
     "data": {
      "text/plain": [
       "'Paracelsus. We 154 PARACELSUS [BOOK III Not easily laid : and ere an hour, the prince Slept as he never slept since prince he was. A day and I was posting for my life, Placarded through the town as one whose spite 450 Had near availed to stop the blessed effects Of the doctor\\'s nostrum, which, well seconded By the sudary, and most by the costly smoke Not leaving out the strenuous prayers sent up Hard by, in the abbey raised the prince to life ; To the great reputation of the seer Who, confident, expected all along The glad event the doctor\\'s recompense Much largess from his highness to the monks And the vast solace of his loving people, 460 Whose general satisfaction to increase, The prince was pleased no longer to defer The burning of some dozen heretics, Remanded till God\\'s mercy should be shown Touching his sickness : last of all were joined learn further that \"others consider that which he kept in the hilt, to which he gave the name of Azoth, to be a most power- ful medicine, or even the Philosopher\\'s Stone itself\" (Melch. Adaui). Naudreus (Hist, of Magic} says of the familiar spirit \" that although the alchemists maintain that it was the secret of the Philosopher\\'s Stone, yet it were more rational to believe that if there was anything in it, it was certainly two or three doses of his laudanum, which he never went without because he did strange things with it, and used it as a medicine to cure almost all diseases.\" Some say his celebrated Azoth was mag- netised electricity. In Hudibras ii. 3 there is a reference to the above-mentioned superstition : - \" Bumbastus kept a devil\\'s bird Shut in the pummel of his sword, That taught him all the cunning pranks Of past and future mountebanks.\" BOOK III] PARACELSUS 155 Ample directions to all loyal folk To swell the complement, by seizing me Who- -doubtless some rank sorcerer had endea- voured To thwart these pious offices, obstruct The prince\\'s cure, and frustrate Heaven by help 470 Of certain devils dwelling in his sword. By luck, the prince in his first fit of thanks Had forced this bauble on me as an earnest Of further favours. This one case may serve To give sufficient taste of many such, So let them pass. Those shelves support a pile Of patents, licences, diplomas, titles, From Germany, France, Spain, and Italy ; They authorise some honour ; ne\\'ertheless, I set more store by this Erasmus sent ; 480 He trusts me ; our Frobenius is his friend, And him \" I raised \" (nay, read it) \" from the dead.\" I weary you, I see. I merely sought To show, there\\'s no great wonder after all That while I fill the class-room, and attract A crowd to Basil, I get leave to stay ; And therefore need not scruple to accept The utmost they can offer if I please : For \\'tis but right the world should be prepared To treat with favour e\\'en fantastic wants 490 Of one like me, used up in serving her. Just as the mortal, whom the gods in part Devoured, received in place of his lost limb Some virtue or other cured disease, I think ; You mind the fables we have read together. Fest. You do not think I comprehend a word. 489. For \\'tis bttt right, &<;. Cf. Sf. Luke x. 7 : \" The labourer is worthy of his hire.\" 156 PARACELSUS [BOOK III The time was, Aureole, you were apt enough To clothe the airiest thoughts in specious breath ; But surely you must feel how vague and strange These speeches sound. Par. Well, then : you know my hopes ; 500 I am assured, at length, those hopes were vain : That truth is just as far from me as ever ; That I have thrown my life away ; that sorrow On that account is idle, and further effort To mend and patch what\\'s marred beyond repairing, As useless : and all this was taught to me By the convincing, good old-fashioned method Of force by sheer compulsion. Is that plain ? Fest. Dear Aureole ! can it be my fears were just ? God wills not . . . Par. Now, \\'tis this I most admire 510 The constant talk men of your stamp keep up Of God\\'s will, as they style it ; one would swear Man had but merely to uplift his eye, And see the will in question charactered On the heaven\\'s vault. \\'Tis hardly wise to moot Such topics : doubts are many and faith is weak. I know as much of any will of God\\'s, As knows some dumb and tortured brute what Man, His stern lord, wills from the perplexing blows That plague him every way ; but there, of course, 520 Where least he suffers, longest he remains My case ; and for such reasons I plod on, Subdued, but not convinced. I know as little Why I deserve to fail, as why I hoped Better things in my youth. I simply know I am no master here, but trained and beaten 509. My fears i.e., those hinted at in i. 306, 665. BOOK III] PARACELSUS 157 Into the path I tread ; and here I stay, Until some further intimation reach me, Like an obedient drudge. Though I prefer To view the whole thing as a task imposed, 530 Which, whether dull or pleasant, must be done Yet, I deny not, there is made provision Of joys which tastes less jaded might affect ; Nay, some which please me too, for all my pride Pleasures that once were pains : the iron ring Festering about a slave\\'s neck grows at length Into the flesh it eats. I hate no longer A host of petty, vile delights, undreamed of Or spurned before ; such now supply the place Of my dead aims : as in the autumn woods 540 Where tall trees used to flourish, from their roots Springs up a fungous brood, sickly and pale, Chill mushrooms, coloured like a corpse\\'s cheek. Fest. If I interpret well your words, I own It troubles me but little that your aims, Vast in their dawning, and most likely grown Extravagantly since, have baffled you. Perchance I am glad ; you merit greater praise ; Because they are too glorious to be gained, You do not blindly cling to them and die ; 550 You fell, but have not sullenly refused To rise, because an angel worsted you In wrestling, though the world holds not your peer ; And though too harsh and sudden is the change 537, &c. The argument is, that submission to earth has its compensations in \"fungus pleasures.\" 548. Insert the before greater. 551-3. An allusion to Genesis xxxii. 24, and reminiscent also of the worsting of Gareth by Lancelot (Tennyson\\'s Gareth and Lynette, 1191-5). 158 PARACELSUS [BOOK III To yield content as yet, still you pursue The ungracious path as though \\'twere rosy strewn. \\'Tis well : and your reward, or soon or late, Will come from'"
      ]
     },
     "execution_count": 11,
     "metadata": {},
     "output_type": "execute_result"
    }
   ],
   "source": [
    "poefic['text'][0]\n",
    "# CODE FOR PROBLEM 1\n",
    "\n",
    "# You'll need to copy over the functions you need: things like \"tokenize\" will \n",
    "# certainly be necessary.\n",
    "\n",
    "# I recommend removing stopwords, but test, and see what happens if you don't.\n",
    "\n",
    "# The column 'reception' has several possible values, including 'elite' (was\n",
    "# reviewed in elite journals), and 'vulgar' (which doesn't mean the poetry was\n",
    "# obscene, but is just a wry way of saying it didn't turn up in our sample of \n",
    "# reviews). You want to contrast these two groups. Leave out other rows, where\n",
    "# 'reception' has a value like 'remove.'\n",
    "\n",
    "# After you've run code to produce the top 25 and bottom 25 words, sorted by \n",
    "# signed Dunnings, write a few sentences of commentary below."
   ]
  },
  {
   "cell_type": "markdown",
   "metadata": {},
   "source": [
    "#### Brief commentary on results.\n",
    "\n",
    "This isn't a class on 19th-century poetry, so I don't expect you to fully\n",
    "interpret the results. (As Clarice was rightly suggesting in class, it's\n",
    "necessary to actually read a few documents before we're in a position to\n",
    "interpret quantitative patterns.) But you might be able to speculate or\n",
    "form tentative hypotheses based on a selection of distinctive words."
   ]
  }
 ],
 "metadata": {
  "anaconda-cloud": {},
  "kernelspec": {
   "display_name": "Python [default]",
   "language": "python",
   "name": "python3"
  },
  "language_info": {
   "codemirror_mode": {
    "name": "ipython",
    "version": 3
   },
   "file_extension": ".py",
   "mimetype": "text/x-python",
   "name": "python",
   "nbconvert_exporter": "python",
   "pygments_lexer": "ipython3",
   "version": "3.5.2"
  }
 },
 "nbformat": 4,
 "nbformat_minor": 0
}
